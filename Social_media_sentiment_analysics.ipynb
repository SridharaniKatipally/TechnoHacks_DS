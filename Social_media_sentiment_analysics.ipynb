{
  "nbformat": 4,
  "nbformat_minor": 0,
  "metadata": {
    "colab": {
      "provenance": [],
      "include_colab_link": true
    },
    "kernelspec": {
      "name": "python3",
      "display_name": "Python 3"
    },
    "language_info": {
      "name": "python"
    }
  },
  "cells": [
    {
      "cell_type": "markdown",
      "metadata": {
        "id": "view-in-github",
        "colab_type": "text"
      },
      "source": [
        "<a href=\"https://colab.research.google.com/github/SridharaniKatipally/TechnoHacks_DS/blob/main/Social_media_sentiment_analysics.ipynb\" target=\"_parent\"><img src=\"https://colab.research.google.com/assets/colab-badge.svg\" alt=\"Open In Colab\"/></a>"
      ]
    },
    {
      "cell_type": "code",
      "execution_count": null,
      "metadata": {
        "colab": {
          "base_uri": "https://localhost:8080/"
        },
        "id": "NHQr8SCZiS0i",
        "outputId": "f245e200-9938-460e-d3b3-4a240c4b2310"
      },
      "outputs": [
        {
          "output_type": "stream",
          "name": "stderr",
          "text": [
            "[nltk_data] Downloading package vader_lexicon to /root/nltk_data...\n"
          ]
        },
        {
          "output_type": "execute_result",
          "data": {
            "text/plain": [
              "True"
            ]
          },
          "metadata": {},
          "execution_count": 1
        }
      ],
      "source": [
        "import pandas as pd\n",
        "from nltk.sentiment.vader import SentimentIntensityAnalyzer\n",
        "import nltk\n",
        "\n",
        "# Download the VADER lexicon\n",
        "nltk.download('vader_lexicon')\n"
      ]
    },
    {
      "cell_type": "code",
      "source": [
        "# Load the dataset\n",
        "data = pd.read_csv('/content/sample_data/Tweets.csv')\n",
        "\n",
        "# Display the first few rows of the dataframe\n",
        "print(data.head())\n"
      ],
      "metadata": {
        "colab": {
          "base_uri": "https://localhost:8080/"
        },
        "id": "8EZ6QlzwjVQb",
        "outputId": "27203a7e-4e37-4e8d-f527-3f5309ce8487"
      },
      "execution_count": null,
      "outputs": [
        {
          "output_type": "stream",
          "name": "stdout",
          "text": [
            "             tweet_id airline_sentiment  airline_sentiment_confidence  \\\n",
            "0  570306133677760513           neutral                        1.0000   \n",
            "1  570301130888122368          positive                        0.3486   \n",
            "2  570301083672813571           neutral                        0.6837   \n",
            "3  570301031407624196          negative                        1.0000   \n",
            "4  570300817074462722          negative                        1.0000   \n",
            "\n",
            "  negativereason  negativereason_confidence         airline  \\\n",
            "0            NaN                        NaN  Virgin America   \n",
            "1            NaN                     0.0000  Virgin America   \n",
            "2            NaN                        NaN  Virgin America   \n",
            "3     Bad Flight                     0.7033  Virgin America   \n",
            "4     Can't Tell                     1.0000  Virgin America   \n",
            "\n",
            "  airline_sentiment_gold        name negativereason_gold  retweet_count  \\\n",
            "0                    NaN     cairdin                 NaN              0   \n",
            "1                    NaN    jnardino                 NaN              0   \n",
            "2                    NaN  yvonnalynn                 NaN              0   \n",
            "3                    NaN    jnardino                 NaN              0   \n",
            "4                    NaN    jnardino                 NaN              0   \n",
            "\n",
            "                                                text tweet_coord  \\\n",
            "0                @VirginAmerica What @dhepburn said.         NaN   \n",
            "1  @VirginAmerica plus you've added commercials t...         NaN   \n",
            "2  @VirginAmerica I didn't today... Must mean I n...         NaN   \n",
            "3  @VirginAmerica it's really aggressive to blast...         NaN   \n",
            "4  @VirginAmerica and it's a really big bad thing...         NaN   \n",
            "\n",
            "               tweet_created tweet_location               user_timezone  \n",
            "0  2015-02-24 11:35:52 -0800            NaN  Eastern Time (US & Canada)  \n",
            "1  2015-02-24 11:15:59 -0800            NaN  Pacific Time (US & Canada)  \n",
            "2  2015-02-24 11:15:48 -0800      Lets Play  Central Time (US & Canada)  \n",
            "3  2015-02-24 11:15:36 -0800            NaN  Pacific Time (US & Canada)  \n",
            "4  2015-02-24 11:14:45 -0800            NaN  Pacific Time (US & Canada)  \n"
          ]
        }
      ]
    },
    {
      "cell_type": "code",
      "source": [
        "# Check the data types of each column\n",
        "print(data.dtypes)\n",
        "\n",
        "# Check for missing values\n",
        "print(data.isnull().sum())\n"
      ],
      "metadata": {
        "colab": {
          "base_uri": "https://localhost:8080/"
        },
        "id": "0CtTqDY8jiLy",
        "outputId": "b67fc6a7-ef6b-4e66-8b41-bfa8d4809b63"
      },
      "execution_count": null,
      "outputs": [
        {
          "output_type": "stream",
          "name": "stdout",
          "text": [
            "tweet_id                          int64\n",
            "airline_sentiment                object\n",
            "airline_sentiment_confidence    float64\n",
            "negativereason                   object\n",
            "negativereason_confidence       float64\n",
            "airline                          object\n",
            "airline_sentiment_gold           object\n",
            "name                             object\n",
            "negativereason_gold              object\n",
            "retweet_count                     int64\n",
            "text                             object\n",
            "tweet_coord                      object\n",
            "tweet_created                    object\n",
            "tweet_location                   object\n",
            "user_timezone                    object\n",
            "dtype: object\n",
            "tweet_id                            0\n",
            "airline_sentiment                   0\n",
            "airline_sentiment_confidence        0\n",
            "negativereason                   5462\n",
            "negativereason_confidence        4118\n",
            "airline                             0\n",
            "airline_sentiment_gold          14600\n",
            "name                                0\n",
            "negativereason_gold             14608\n",
            "retweet_count                       0\n",
            "text                                0\n",
            "tweet_coord                     13621\n",
            "tweet_created                       0\n",
            "tweet_location                   4733\n",
            "user_timezone                    4820\n",
            "dtype: int64\n"
          ]
        }
      ]
    },
    {
      "cell_type": "code",
      "source": [
        "# Initialize the VADER sentiment intensity analyzer\n",
        "sid = SentimentIntensityAnalyzer()\n",
        "\n",
        "# Define a function to get sentiment scores\n",
        "def get_sentiment_scores(text):\n",
        "    return sid.polarity_scores(text)\n",
        "\n",
        "# Apply the sentiment analysis to each tweet\n",
        "data['sentiment_scores'] = data['text'].apply(get_sentiment_scores)\n",
        "\n",
        "# Extract compound score as the overall sentiment\n",
        "data['compound'] = data['sentiment_scores'].apply(lambda score_dict: score_dict['compound'])\n",
        "\n",
        "# Determine sentiment based on compound score\n",
        "data['sentiment'] = data['compound'].apply(lambda c: 'positive' if c >= 0.05 else ('negative' if c <= -0.05 else 'neutral'))\n",
        "\n",
        "# Display the first few rows with sentiment scores\n",
        "print(data.head())\n"
      ],
      "metadata": {
        "colab": {
          "base_uri": "https://localhost:8080/"
        },
        "id": "zSfYNb25jke7",
        "outputId": "33c11f3e-9f3d-432f-e79d-7220ef656c54"
      },
      "execution_count": null,
      "outputs": [
        {
          "output_type": "stream",
          "name": "stdout",
          "text": [
            "             tweet_id airline_sentiment  airline_sentiment_confidence  \\\n",
            "0  570306133677760513           neutral                        1.0000   \n",
            "1  570301130888122368          positive                        0.3486   \n",
            "2  570301083672813571           neutral                        0.6837   \n",
            "3  570301031407624196          negative                        1.0000   \n",
            "4  570300817074462722          negative                        1.0000   \n",
            "\n",
            "  negativereason  negativereason_confidence         airline  \\\n",
            "0            NaN                        NaN  Virgin America   \n",
            "1            NaN                     0.0000  Virgin America   \n",
            "2            NaN                        NaN  Virgin America   \n",
            "3     Bad Flight                     0.7033  Virgin America   \n",
            "4     Can't Tell                     1.0000  Virgin America   \n",
            "\n",
            "  airline_sentiment_gold        name negativereason_gold  retweet_count  \\\n",
            "0                    NaN     cairdin                 NaN              0   \n",
            "1                    NaN    jnardino                 NaN              0   \n",
            "2                    NaN  yvonnalynn                 NaN              0   \n",
            "3                    NaN    jnardino                 NaN              0   \n",
            "4                    NaN    jnardino                 NaN              0   \n",
            "\n",
            "                                                text tweet_coord  \\\n",
            "0                @VirginAmerica What @dhepburn said.         NaN   \n",
            "1  @VirginAmerica plus you've added commercials t...         NaN   \n",
            "2  @VirginAmerica I didn't today... Must mean I n...         NaN   \n",
            "3  @VirginAmerica it's really aggressive to blast...         NaN   \n",
            "4  @VirginAmerica and it's a really big bad thing...         NaN   \n",
            "\n",
            "               tweet_created tweet_location               user_timezone  \\\n",
            "0  2015-02-24 11:35:52 -0800            NaN  Eastern Time (US & Canada)   \n",
            "1  2015-02-24 11:15:59 -0800            NaN  Pacific Time (US & Canada)   \n",
            "2  2015-02-24 11:15:48 -0800      Lets Play  Central Time (US & Canada)   \n",
            "3  2015-02-24 11:15:36 -0800            NaN  Pacific Time (US & Canada)   \n",
            "4  2015-02-24 11:14:45 -0800            NaN  Pacific Time (US & Canada)   \n",
            "\n",
            "                                    sentiment_scores  compound sentiment  \n",
            "0  {'neg': 0.0, 'neu': 1.0, 'pos': 0.0, 'compound...    0.0000   neutral  \n",
            "1  {'neg': 0.0, 'neu': 1.0, 'pos': 0.0, 'compound...    0.0000   neutral  \n",
            "2  {'neg': 0.0, 'neu': 1.0, 'pos': 0.0, 'compound...    0.0000   neutral  \n",
            "3  {'neg': 0.246, 'neu': 0.754, 'pos': 0.0, 'comp...   -0.5984  negative  \n",
            "4  {'neg': 0.321, 'neu': 0.679, 'pos': 0.0, 'comp...   -0.5829  negative  \n"
          ]
        }
      ]
    },
    {
      "cell_type": "code",
      "source": [
        "import seaborn as sns\n",
        "import matplotlib.pyplot as plt\n",
        "\n",
        "# Plot the sentiment distribution\n",
        "plt.figure(figsize=(8, 6))\n",
        "sns.countplot(x='sentiment', data=data)\n",
        "plt.title('Sentiment Distribution')\n",
        "plt.xlabel('Sentiment')\n",
        "plt.ylabel('Number of Tweets')\n",
        "plt.show()\n"
      ],
      "metadata": {
        "colab": {
          "base_uri": "https://localhost:8080/",
          "height": 564
        },
        "id": "x6srv_Ckjn8j",
        "outputId": "69d9c93e-508a-42ce-d80f-d4b368de710c"
      },
      "execution_count": null,
      "outputs": [
        {
          "output_type": "display_data",
          "data": {
            "text/plain": [
              "<Figure size 800x600 with 1 Axes>"
            ],
            "image/png": "[encoded data removed]"
          },
          "metadata": {}
        }
      ]
    },
    {
      "cell_type": "code",
      "source": [
        "# Summary of sentiment analysis\n",
        "sentiment_summary = data['sentiment'].value_counts(normalize=True) * 100\n",
        "print(sentiment_summary)\n"
      ],
      "metadata": {
        "colab": {
          "base_uri": "https://localhost:8080/"
        },
        "id": "vin6XhTTjq3D",
        "outputId": "00415649-cd25-49d2-a26b-e84880ae34df"
      },
      "execution_count": null,
      "outputs": [
        {
          "output_type": "stream",
          "name": "stdout",
          "text": [
            "sentiment\n",
            "positive    41.748634\n",
            "negative    34.719945\n",
            "neutral     23.531421\n",
            "Name: proportion, dtype: float64\n"
          ]
        }
      ]
    }
  ]
}